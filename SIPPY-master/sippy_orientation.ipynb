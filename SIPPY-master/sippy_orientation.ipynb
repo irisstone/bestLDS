{
 "cells": [
  {
   "cell_type": "code",
   "execution_count": null,
   "id": "5267a710",
   "metadata": {},
   "outputs": [],
   "source": [
    "from __future__ import division\n",
    "\n",
    "from past.utils import old_div\n",
    "\n",
    "# Checking path to access other files\n",
    "try:\n",
    "    from sippy import *\n",
    "except ImportError:\n",
    "    import sys, os\n",
    "\n",
    "    sys.path.append(os.pardir)\n",
    "    from sippy import *\n",
    "\n",
    "import numpy as np\n",
    "from sippy import functionset as fset\n",
    "from sippy import functionsetSIM as fsetSIM\n",
    "import matplotlib.pyplot as plt\n",
    "\n",
    "from scipy.io import savemat"
   ]
  },
  {
   "cell_type": "code",
   "execution_count": null,
   "id": "a62637d3",
   "metadata": {
    "scrolled": false
   },
   "outputs": [],
   "source": [
    "\"\"\"\n",
    "Created on Fri Jan 19 2018\n",
    "@author: Giuseppe Armenise, revised by RBdC\n",
    "In this test, no error occurs. \n",
    "Using method='N4SID','MOESP' or 'CVA', if the message\n",
    "\"Kalman filter cannot be calculated\" is shown, it means\n",
    "that the package slycot is not well-installed.\n",
    "\"\"\"\n",
    "\n",
    "\n",
    "\n",
    "# Example to test SS-methods\n",
    "\n",
    "# sample time\n",
    "ts = 1.0\n",
    "\n",
    "# SISO SS system (n = 2)\n",
    "A = np.array([[0.89, 0.], [0., 0.45]])\n",
    "B = np.array([[0.3, 0.7], [2.5, 1.4]])\n",
    "C = np.array([[0.7, 1.]])\n",
    "D = np.array([[0.0, 1.0]])\n",
    "\n",
    "tfin = 500\n",
    "npts = int(old_div(tfin, ts)) + 1\n",
    "Time = np.linspace(0, tfin, npts)\n",
    "m = 2\n",
    "\n",
    "# Input sequence\n",
    "U = np.zeros((m, npts))\n",
    "for i in range(m):\n",
    "    [U[i, :],_,_] = fset.GBN_seq(npts, 0.05)\n",
    "\n",
    "##Output\n",
    "x, yout = fsetSIM.SS_lsim_process_form(A, B, C, D, U)\n",
    "\n",
    "# measurement noise\n",
    "noise = fset.white_noise_var(npts, [0.15])\n",
    "\n",
    "# Output with noise\n",
    "y_tot = yout + noise\n",
    "\n",
    "#\n",
    "# plt.figure(0)\n",
    "# plt.plot(Time, U[0])\n",
    "# plt.ylabel(\"input\")\n",
    "# plt.grid()\n",
    "# plt.xlabel(\"Time\")\n",
    "#\n",
    "plt.figure()\n",
    "plt.plot(Time, y_tot[0])\n",
    "plt.ylabel(\"y_tot\")\n",
    "plt.grid()\n",
    "plt.xlabel(\"Time\")\n",
    "plt.title(\"Ytot\")\n",
    "\n",
    "##System identification\n",
    "METHOD = ['N4SID']\n",
    "lege = ['System']\n",
    "for i in range(len(METHOD)):\n",
    "    method = METHOD[i]\n",
    "    sys_id = system_identification(y_tot, U, method, SS_fixed_order = 2 )\n",
    "    xid, yid = fsetSIM.SS_lsim_process_form(sys_id.A, sys_id.B, sys_id.C, sys_id.D, U, sys_id.x0)\n",
    "    #\n",
    "    plt.plot(Time, yid[i])\n",
    "    lege.append(method) \n",
    "    \n",
    "plt.legend(lege) "
   ]
  },
  {
   "cell_type": "code",
   "execution_count": null,
   "id": "d85f8891",
   "metadata": {},
   "outputs": [],
   "source": [
    "# Load real data\n",
    "y = np.load('../data/real-data/d2mice_outputs.npy')\n",
    "y = 1 - np.nonzero(y)[1][np.newaxis]\n",
    "inputs = np.load('../data/real-data/d2mice_inputs.npy')"
   ]
  },
  {
   "cell_type": "code",
   "execution_count": null,
   "id": "adbd1cec",
   "metadata": {},
   "outputs": [],
   "source": [
    "# Set up system parameters\n",
    "p = 3\n",
    "m = 4\n",
    "k = 30\n",
    "u = np.hstack((inputs[:,0:2],inputs[:,-2:])).T\n",
    "\n",
    "# Fit\n",
    "sys_id = system_identification(y, u, 'N4SID', SS_fixed_order = p, SS_f = k)"
   ]
  },
  {
   "cell_type": "code",
   "execution_count": null,
   "id": "e7f60b70",
   "metadata": {},
   "outputs": [],
   "source": [
    "np.set_printoptions(suppress=True, precision=4)\n",
    "print(sys_id.A)\n",
    "print(sys_id.B)\n",
    "print(sys_id.C)\n",
    "print(sys_id.D)"
   ]
  },
  {
   "cell_type": "code",
   "execution_count": null,
   "id": "f91e3f7e",
   "metadata": {
    "scrolled": false
   },
   "outputs": [],
   "source": [
    "plt.figure()\n",
    "plt.plot(y[0, :], label='true')\n",
    "# plt.xlim()\n",
    "xid, yid = fsetSIM.SS_lsim_process_form(sys_id.A, sys_id.B, sys_id.C, sys_id.D, u, sys_id.x0)\n",
    "plt.plot(yid[0, :], label='sippy');\n",
    "plt.legend()"
   ]
  },
  {
   "cell_type": "code",
   "execution_count": null,
   "id": "27460346",
   "metadata": {},
   "outputs": [],
   "source": [
    "print(y_tot.shape) # Output shape from their example\n",
    "print(U.shape)     # Input shape from their example\n",
    "\n",
    "print(y.shape)     # Our data\n",
    "print(u.shape)\n",
    "\n",
    "print(yid.shape)   # Shape of the predicted outputs"
   ]
  },
  {
   "cell_type": "code",
   "execution_count": null,
   "id": "e23b24f5",
   "metadata": {},
   "outputs": [],
   "source": [
    "np.savez('./fit_params/sippy_gausslds_fit.npz', Ahat=sys_id.A, Bhat=sys_id.B, Chat=sys_id.C, Dhat=sys_id.D)"
   ]
  },
  {
   "cell_type": "markdown",
   "id": "9738cba5",
   "metadata": {},
   "source": [
    "## Model comparison"
   ]
  },
  {
   "cell_type": "code",
   "execution_count": null,
   "id": "b1e3d141",
   "metadata": {},
   "outputs": [],
   "source": [
    "d = np.load('../data/model-comparisons/datasetB/datasetB_large.npz')\n",
    "\n",
    "# for key in d.keys():\n",
    "#     print(key)\n",
    "    \n",
    "u_train = d['u_train']\n",
    "y_train = d['y_train']\n",
    "u_test = d['u_test']\n",
    "y_test = d['y_test']\n",
    "\n",
    "A = d['A']"
   ]
  },
  {
   "cell_type": "code",
   "execution_count": null,
   "id": "a7a73cd2",
   "metadata": {},
   "outputs": [],
   "source": [
    "num_folds = 5\n",
    "m = u_train.shape[-1]\n",
    "q = y_train.shape[-1]\n",
    "p = A.shape[0]\n",
    "\n",
    "for fold in range(num_folds):\n",
    "    print(fold)\n",
    "    u = u_train[fold, :, :].T\n",
    "    y = y_train[fold, :, :].T\n",
    "    \n",
    "#     print(u.shape)\n",
    "#     print(y.shape)\n",
    "    sys_id = system_identification(y, u, 'N4SID', SS_fixed_order = p)\n",
    "    \n",
    "    savemat('./model-comparison-fits/datasetB_large_gaussian_fold%d.mat' % fold, {'Ahat':sys_id.A, \n",
    "             'Bhat':sys_id.B, 'Chat':sys_id.C, 'Dhat':sys_id.D,\n",
    "             'u_train':u_train, 'u_test':u_test, 'y_train':y_train, 'y_test':y_test,\n",
    "             'A':d['A'], 'B':d['B'], 'C':d['C'], 'D':d['D'], 'Q':d['Q'], 'N':d['N']})"
   ]
  },
  {
   "cell_type": "markdown",
   "id": "9ba8378f",
   "metadata": {},
   "source": [
    "## Real data"
   ]
  },
  {
   "cell_type": "code",
   "execution_count": null,
   "id": "d862438e",
   "metadata": {},
   "outputs": [],
   "source": [
    "# Load real data\n",
    "d = np.load('../data/real-data/baseline-performance/train_test_info.npz', allow_pickle=True)\n",
    "\n",
    "for key in d.keys():\n",
    "    print(key)\n",
    "    \n",
    "y_train = d['y_train']\n",
    "y_test = d['y_test']\n",
    "u_train = d['u_train']\n",
    "u_test = d['u_test']\n",
    "sessions_train = d['sessions_train']\n",
    "sessions_test = d['sessions_test']\n",
    "trials_test = d['trials_test']\n",
    "seeds = d['seeds']\n",
    "\n",
    "p = 3\n",
    "m = 4\n",
    "k = 30\n",
    "q = 1\n",
    "nfolds = 5\n",
    "# y = 1 - np.nonzero(y)[1][np.newaxis]\n",
    "# inputs = np.load('../data/real-data/d2mice_inputs.npy')"
   ]
  },
  {
   "cell_type": "code",
   "execution_count": null,
   "id": "813f6290",
   "metadata": {},
   "outputs": [],
   "source": [
    "A = np.zeros((nfolds, p, p))\n",
    "B = np.zeros((nfolds, p, m))\n",
    "C = np.zeros((nfolds, q, p))\n",
    "D = np.zeros((nfolds, q, m))\n",
    "Q = np.zeros((nfolds, p, p))\n",
    "\n",
    "for fold in range(5):\n",
    "    u = u_train[fold].T\n",
    "    y = y_train[fold].T\n",
    "    sys_id = system_identification(y, u, 'N4SID', SS_fixed_order = p, SS_f = k)\n",
    "    \n",
    "    A[fold, :, :] = sys_id.A\n",
    "    B[fold, :, :] = sys_id.B\n",
    "    C[fold, :, :] = sys_id.C\n",
    "    D[fold, :, :] = sys_id.D\n",
    "    Q[fold, :, :] = sys_id.Q\n",
    "    \n",
    "param_dict = {'A' : A, 'B' : B, 'C' : C, 'D' : D, 'Q' : Q, 'y_train' : y_train, 'y_test' : y_test,\n",
    "              'u_train' : u_train, 'u_test' : u_test, 'sessions_train' : sessions_train, \n",
    "              'sessions_test' : sessions_test, 'trials_test' : trials_test, 'seeds' : seeds}\n",
    "savemat('../data/real-data/baseline-performance/gaussian_train_params.mat', param_dict)\n",
    "    "
   ]
  },
  {
   "cell_type": "markdown",
   "id": "5e4d88b7",
   "metadata": {},
   "source": [
    "## EM"
   ]
  },
  {
   "cell_type": "code",
   "execution_count": null,
   "id": "de5dbf9a",
   "metadata": {},
   "outputs": [],
   "source": [
    "import scipy.io as sio\n",
    "\n",
    "for i in range(7):\n",
    "    # Load real data\n",
    "    d = np.load('../data/em-inits/datasetD_q1/best-lds-%d.npz' % i)\n",
    "    y = d['y']\n",
    "    u = d['u']\n",
    "    p = d['A'].shape[0]\n",
    "    k = p\n",
    "    \n",
    "    sys_id = system_identification(y, u, 'N4SID', SS_fixed_order = p, SS_f = k)\n",
    "    np.savez('../data/em-inits/datasetD_q1/gaussian-%d.npz' % i, Ahat=sys_id.A, Bhat=sys_id.B, \n",
    "             Chat=sys_id.C, Dhat=sys_id.D, Qhat=sys_id.Q, seed=d['seed'], A=d['A'], B=d['B'], C=d['C'], \n",
    "             C_new=d['C_new'], D=d['D'], Q=d['Q'], Q0=d['Q0'], x0=d['x0'], muu=d['muu'], \n",
    "             Qu=d['Qu'], y=y, z=d['z'], u=u, x=d['x'])\n",
    "    \n",
    "    data_dict = {}\n",
    "    for key in d.keys():\n",
    "        data_dict[key] = d[key]\n",
    "        \n",
    "    data_dict['Ahat'] = sys_id.A\n",
    "    data_dict['Bhat'] = sys_id.B\n",
    "    data_dict['Chat'] = sys_id.C\n",
    "    data_dict['Dhat'] = sys_id.D\n",
    "    data_dict['Qhat'] = sys_id.Q\n",
    "    \n",
    "#     sio.savemat('data/em-inits/datasetD_q1/gaussian-%d.mat' % i, data_dict)"
   ]
  }
 ],
 "metadata": {
  "kernelspec": {
   "display_name": "Python 3 (ipykernel)",
   "language": "python",
   "name": "python3"
  },
  "language_info": {
   "codemirror_mode": {
    "name": "ipython",
    "version": 3
   },
   "file_extension": ".py",
   "mimetype": "text/x-python",
   "name": "python",
   "nbconvert_exporter": "python",
   "pygments_lexer": "ipython3",
   "version": "3.10.8"
  }
 },
 "nbformat": 4,
 "nbformat_minor": 5
}
