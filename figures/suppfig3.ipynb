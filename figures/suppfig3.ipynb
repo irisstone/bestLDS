{
 "cells": [
  {
   "cell_type": "code",
   "execution_count": 1,
   "id": "a1f33c3e",
   "metadata": {},
   "outputs": [],
   "source": [
    "%load_ext autoreload\n",
    "%autoreload 2\n",
    "\n",
    "import sys\n",
    "sys.path.insert(0, '..')\n",
    "\n",
    "import numpy as np\n",
    "import matplotlib.pyplot as plt\n",
    "# from baselines import *\n",
    "\n",
    "import matplotlib as mpl\n",
    "mpl.rcParams['pdf.fonttype'] = 42\n",
    "mpl.rcParams['ps.fonttype'] = 42\n",
    "\n",
    "# set plot design features\n",
    "font = {'family'   : 'sans-serif',\n",
    "        'sans-serif' : 'Helvetica',\n",
    "        'weight'   : 'regular',\n",
    "        'size'     : 24}\n",
    "\n",
    "mpl.rc('font', **font)\n",
    "\n",
    "colors = np.array([[95,59,151],[85,180,103],[250,186,63],[150,150,150]])/255"
   ]
  },
  {
   "cell_type": "markdown",
   "id": "909ac523",
   "metadata": {},
   "source": [
    "### System Parameter Errors (A.3)"
   ]
  },
  {
   "cell_type": "code",
   "execution_count": null,
   "id": "6ae4ee96",
   "metadata": {},
   "outputs": [],
   "source": [
    "Ns = [1000, 2000, 4000, 8000, 16000, 32000, 64000, 128000, 256000]\n",
    "logN = np.log10(Ns)\n",
    "error_metrics = np.load(\"../data/error_metrics/fig2_unitized.npz\",allow_pickle=True)"
   ]
  },
  {
   "cell_type": "markdown",
   "id": "7354393d",
   "metadata": {},
   "source": [
    "#### Error in A"
   ]
  },
  {
   "cell_type": "code",
   "execution_count": null,
   "id": "2730ae9d",
   "metadata": {},
   "outputs": [],
   "source": [
    "plt.figure(figsize=(3.5,4))\n",
    "\n",
    "A_error = np.squeeze(np.mean(error_metrics_nonreg[\"sip_Aangles\"],axis=1))\n",
    "A_std = np.squeeze(np.std(error_metrics_nonreg[\"sip_Aangles\"],axis=1))\n",
    "\n",
    "plt.errorbar(logN,A_error,yerr=A_std, color=colors[1],capsize=2,linewidth=2, label='SIPPY')\n",
    "plt.xlabel('$log_{10}(N)$')\n",
    "plt.xticks(np.arange(3.2,5.6,1))\n",
    "plt.ylabel('avg. diff in EVs')\n",
    "#plt.yticks(np.arange(0,0.016,0.005))\n",
    "#plt.title('dynamics matrix', fontsize=24)\n",
    "# plt.savefig(\"saved_images/fig2_unitized_Aerr.pdf\",transparent=True)\n",
    "\n",
    "A_error = np.squeeze(np.mean(error_metrics[\"Aangles\"],axis=1))\n",
    "A_std = np.squeeze(np.std(error_metrics[\"Aangles\"],axis=1))\n",
    "\n",
    "plt.errorbar(logN,A_error,yerr=A_std, color=colors[0],capsize=2,linewidth=2, label='bestLDS')\n",
    "plt.xlabel('$log_{10}(N)$')\n",
    "plt.xticks(np.arange(3.2,5.6,1))\n",
    "plt.ylabel('avg. diff in EVs')\n",
    "plt.legend()\n",
    "#plt.yticks(np.arange(0,0.016,0.005))\n",
    "#plt.title('dynamics matrix', fontsize=24)\n",
    "plt.savefig(\"saved_images/fig2_nonunitized_Aerr_composite.pdf\",transparent=True)"
   ]
  },
  {
   "cell_type": "markdown",
   "id": "5d03e400",
   "metadata": {},
   "source": [
    "#### Error in C"
   ]
  },
  {
   "cell_type": "code",
   "execution_count": null,
   "id": "dafe7729",
   "metadata": {},
   "outputs": [],
   "source": [
    "plt.figure(figsize=(3.5,4))\n",
    "\n",
    "C_error = np.squeeze(np.mean(error_metrics_nonreg[\"Cangles\"],axis=1))\n",
    "C_std = np.squeeze(np.std(error_metrics_nonreg[\"Cangles\"],axis=1))\n",
    "\n",
    "plt.errorbar(logN,C_error,yerr=C_std, color=colors[1],capsize=2,linewidth=2,label='SIPPY')\n",
    "plt.xlabel('$log_{10}(N)$')\n",
    "plt.xticks(np.arange(3.2,5.6,1))\n",
    "plt.ylabel('subspace angle')\n",
    "plt.title('output matrix', fontsize=24)\n",
    "# plt.savefig(\"saved_images/fig2_unitized_Cerr.pdf\",transparent=True)\n",
    "\n",
    "C_error = np.squeeze(np.mean(error_metrics[\"Cangles\"],axis=1))\n",
    "C_std = np.squeeze(np.std(error_metrics[\"Cangles\"],axis=1))\n",
    "\n",
    "plt.errorbar(logN,C_error,yerr=C_std, color=colors[0],capsize=2,linewidth=2,label='bestLDS')\n",
    "plt.xlabel('$log_{10}(N)$')\n",
    "plt.xticks(np.arange(3.2,5.6,1))\n",
    "plt.ylabel('subspace angle')\n",
    "plt.title('output matrix', fontsize=24)\n",
    "plt.legend()\n",
    "plt.savefig(\"saved_images/fig2_nonunitized_Cerr_composite.pdf\",transparent=True)"
   ]
  },
  {
   "cell_type": "markdown",
   "id": "8a0c7660",
   "metadata": {},
   "source": [
    "#### Error in D"
   ]
  },
  {
   "cell_type": "code",
   "execution_count": null,
   "id": "be0e7f68",
   "metadata": {},
   "outputs": [],
   "source": [
    "plt.figure(figsize=(3.5,4))\n",
    "\n",
    "D_error = np.squeeze(np.mean(error_metrics[\"sip_Dangles\"],axis=1))\n",
    "D_std = np.squeeze(np.std(error_metrics[\"sip_Dangles\"],axis=1))\n",
    "\n",
    "plt.errorbar(logN,D_error ,yerr=D_std , color=colors[1],capsize=2,linewidth=2,label='SIPPY')\n",
    "plt.xlabel('$log_{10}(N)$')\n",
    "plt.xticks(np.arange(3.2,5.6,1))\n",
    "plt.ylabel('avg. element-wise error')\n",
    "plt.yticks(np.arange(0,0.1,0.02))\n",
    "plt.title('direct feedthrough matrix $D$', fontsize=24)\n",
    "# plt.savefig(\"saved_images/fig2_unitized_Derr.pdf\",transparent=True)\n",
    "\n",
    "D_error = np.squeeze(np.mean(error_metrics[\"Dangles\"],axis=1))\n",
    "D_std = np.squeeze(np.std(error_metrics[\"Dangles\"],axis=1))\n",
    "\n",
    "plt.errorbar(logN,D_error ,yerr=D_std , color=colors[0],capsize=2,linewidth=2,label='bestLDS')\n",
    "plt.xlabel('$log_{10}(N)$')\n",
    "plt.xticks(np.arange(3.2,5.6,1))\n",
    "plt.ylabel('avg. element-wise error')\n",
    "plt.yticks(np.arange(0,0.1,0.02))\n",
    "plt.title('direct feedthrough matrix $D$', fontsize=24)\n",
    "plt.legend()\n",
    "plt.savefig(\"saved_images/fig2_unitized_Derr_composite.pdf\",transparent=True)"
   ]
  },
  {
   "cell_type": "markdown",
   "id": "505969ff",
   "metadata": {},
   "source": [
    "#### Error in Gain"
   ]
  },
  {
   "cell_type": "code",
   "execution_count": null,
   "id": "569bce1c",
   "metadata": {},
   "outputs": [],
   "source": [
    "plt.figure(figsize=(3.5,4))\n",
    "\n",
    "G_error = np.squeeze(np.mean(error_metrics_nonreg[\"Gangles\"],axis=1))\n",
    "G_std = np.squeeze(np.std(error_metrics_nonreg[\"Gangles\"],axis=1))\n",
    "\n",
    "plt.errorbar(logN,G_error,yerr=G_std, color=colors[1],capsize=2,linewidth=2, label='SIPPY')\n",
    "plt.xlabel('$log_{10}(N)$')\n",
    "plt.xticks(np.arange(3.2,5.6,1))\n",
    "plt.ylabel('avg. element-wise error')\n",
    "#plt.yticks(np.arange(0.6,1.9,0.4))\n",
    "plt.title('gain matrix $G$', fontsize=24)\n",
    "# plt.savefig(\"saved_images/fig2_unitized_Gerr.pdf\",transparent=True)\n",
    "\n",
    "G_error = np.squeeze(np.mean(error_metrics[\"Gangles\"],axis=1))\n",
    "G_std = np.squeeze(np.std(error_metrics[\"Gangles\"],axis=1))\n",
    "\n",
    "plt.errorbar(logN,G_error,yerr=G_std, color=colors[0],capsize=2,linewidth=2, label='bestLDS')\n",
    "plt.xlabel('$log_{10}(N)$')\n",
    "plt.xticks(np.arange(3.2,5.6,1))\n",
    "plt.ylabel('avg. element-wise error')\n",
    "#plt.yticks(np.arange(0.6,1.9,0.4))\n",
    "plt.title('gain matrix $G$', fontsize=24)\n",
    "plt.legend()\n",
    "plt.savefig(\"saved_images/fig2_nonunitized_Gerr_composite.pdf\",transparent=True)"
   ]
  }
 ],
 "metadata": {
  "kernelspec": {
   "display_name": "Python 3 (ipykernel)",
   "language": "python",
   "name": "python3"
  },
  "language_info": {
   "codemirror_mode": {
    "name": "ipython",
    "version": 3
   },
   "file_extension": ".py",
   "mimetype": "text/x-python",
   "name": "python",
   "nbconvert_exporter": "python",
   "pygments_lexer": "ipython3",
   "version": "3.10.8"
  }
 },
 "nbformat": 4,
 "nbformat_minor": 5
}
